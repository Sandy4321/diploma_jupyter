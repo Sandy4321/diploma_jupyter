{
 "cells": [
  {
   "cell_type": "code",
   "execution_count": null,
   "metadata": {},
   "outputs": [],
   "source": [
    "import numpy as np\n",
    "import os\n",
    "import pickle\n",
    "from SleepingThread import Timer,Saver\n",
    "from SleepingThread.qsar import descriptors as descr\n",
    "sel_folder = \"/home/unknown/SCW/datasets/bzr/selection\"\n",
    "\n",
    "sgt = descr.MolSegmentator()\n",
    "# ElVDW\n",
    "sgt.setMol(sel_folder+\"/1\",prop_type=\"El\")\n",
    "sgt.drawSurface(draw_prop=True)\n",
    "sgt.generateMolImage(20)\n",
    "sgt.drawMolImage()"
   ]
  },
  {
   "cell_type": "code",
   "execution_count": null,
   "metadata": {},
   "outputs": [],
   "source": [
    "import numpy as np\n",
    "import os\n",
    "import pickle\n",
    "from SleepingThread import Timer,Saver\n",
    "from SleepingThread.qsar import descriptors as descr\n",
    "sel_folder = \"/home/unknown/SCW/datasets/bzr/selection\"\n",
    "\n",
    "class ArgsGenerator(object):\n",
    "    def __init__(self,sel_folder):\n",
    "        self.sel_folder = sel_folder\n",
    "        self.file_num = 1\n",
    "        \n",
    "    def next(self):\n",
    "        if os.path.isfile(sel_folder+\"/\"+str(self.file_num)+\".mol\"):\n",
    "            self.file_num += 1\n",
    "            return sel_folder+\"/\"+str(self.file_num-1)\n",
    "        else:\n",
    "            return None\n",
    "\n",
    "generator = ArgsGenerator(sel_folder)\n",
    "        \n",
    "saver = Saver(folder=sel_folder+\"/algdata/mol_segm\",generator=generator,sec=600,verbose=1,zip_output=True)\n",
    "\n",
    "sgt_list = []\n",
    "\n",
    "gl_timer = Timer()\n",
    "\n",
    "while saver.next(sgt_list):\n",
    "    args = saver.getArgs()\n",
    "    print args\n",
    "    \n",
    "    loc_timer = Timer()\n",
    "    sgt = descr.MolSegmentator()\n",
    "    sgt.setMol(args)\n",
    "    sgt.generateSegmentation(scales=[10.0],verbose=1)\n",
    "    print sgt.n_segments, loc_timer, gl_timer\n",
    "    sgt_list.append(sgt)"
   ]
  },
  {
   "cell_type": "code",
   "execution_count": null,
   "metadata": {},
   "outputs": [],
   "source": [
    "import sys\n",
    "for ind,sgt in enumerate(sgt_list):\n",
    "    sys.stdout.write(\"\\r\"+str(ind))\n",
    "    sgt.generateSegmentImages(10)\n",
    "    sgt.setSegmentPropertyType(\"average\")\n",
    "\n",
    "data = descr.getDataFromMolSegmentatorList(sgt_list,verbose=1)"
   ]
  },
  {
   "cell_type": "code",
   "execution_count": null,
   "metadata": {},
   "outputs": [],
   "source": [
    "from SleepingThread.qsar.qsarmodel import QSARModel1\n",
    "from SleepingThread.ml import *\n",
    "import numpy as np\n",
    "from sklearn.model_selection import cross_val_score, ShuffleSplit, StratifiedKFold, RepeatedStratifiedKFold, \\\n",
    "    cross_validate\n",
    "from sklearn import metrics\n",
    "from sklearn.preprocessing import StandardScaler\n",
    "from sklearn.svm import SVC\n",
    "import sys\n",
    "\n",
    "def fun(kernel=\"rbf\",n_image_clusters=1):\n",
    "    output_y = []\n",
    "    output_x = []\n",
    "    \n",
    "    output2_y = []\n",
    "    output2_x = []\n",
    "    \n",
    "    timer = Timer()\n",
    "    \n",
    "    for n_prop_clusters in xrange(1,30,2):\n",
    "        sys.stdout.write(\"\\rn_prop_clusters: \"+str(n_prop_clusters))\n",
    "        \n",
    "        target = np.loadtxt(sel_folder+\"/values\")\n",
    "        estimator = SVC(C=1.0,class_weight={ 1:float(np.sum(target==-1))/float(np.sum(target==1)) },kernel='linear')\n",
    "        #estimator = SVC(C=1.0,kernel='linear')\n",
    "        qm = QSARModel1(estimator=estimator,\\\n",
    "                n_image_clusters=n_image_clusters,\\\n",
    "                n_prop_clusters=n_prop_clusters)\n",
    "        mat = qm.getMatrix(data)\n",
    "        \n",
    "        sc = StandardScaler()\n",
    "        mat = sc.fit_transform(mat)\n",
    "        \n",
    "        trainer = SVC(C=1.0,class_weight={ 1:float(np.sum(target==-1))/float(np.sum(target==1)) },kernel=kernel)\n",
    "        trainer.fit(mat,target)\n",
    "        \n",
    "        #print \"All Weighted: \",weighted_accuracy(trainer,mat,target)\n",
    "        #print \"All Score: \",trainer.score(mat,target)\n",
    "        \n",
    "        #from SleepingThread.qsar.graphics import drawBar\n",
    "        #drawBar(target-estimator.predict(mat),n_segments=15)\n",
    "    \n",
    "        trainer = SVC(C=1.0,class_weight={ 1:float(np.sum(target==-1))/float(np.sum(target==1)) },kernel=kernel)\n",
    "        cv = RepeatedStratifiedKFold(n_splits=5,random_state=0,n_repeats=30)\n",
    "        #cv = ShuffleSplit(n_splits=100,test_size=0.2,random_state=0)\n",
    "        res = cross_validate(trainer,mat,target,cv=cv,scoring={'accuracy':'accuracy','wa':weighted_accuracy},return_train_score=True)\n",
    "    \n",
    "        output_y.append(np.average(res[\"test_wa\"]))\n",
    "        output_x.append(n_prop_clusters)\n",
    "        \n",
    "        output2_y.append(np.average(res[\"train_wa\"]))\n",
    "        output2_x.append(n_prop_clusters)\n",
    "        \n",
    "        #print \"Weighted test: \", np.average(res[\"test_wa\"])\n",
    "        #print \"Weighted train: \", np.average(res[\"train_wa\"])\n",
    "        #print \"Accuracy test: \", np.average(res[\"test_accuracy\"])\n",
    "        #print \"Accuracy train: \", np.average(res[\"train_accuracy\"])\n",
    "        \n",
    "    sys.stdout.write(\"\\nTime: \"+str(timer)+\"\\n\")\n",
    "    \n",
    "    return output_x,output_y,output2_x,output2_y\n",
    "\n",
    "from matplotlib import pyplot as plt\n",
    "\n",
    "def draw_fun(kernel=\"rbf\",n_image_clusters=1):\n",
    "    print \"kernel: \",kernel,\" | n_image_clusters: \",n_image_clusters\n",
    "    output_x,output_y,output2_x,output2_y = fun(kernel,n_image_clusters)\n",
    "    plt.plot(output_x,output_y,color=\"blue\")\n",
    "    plt.plot(output2_x,output2_y,color=\"red\")\n",
    "    plt.show()"
   ]
  },
  {
   "cell_type": "code",
   "execution_count": null,
   "metadata": {},
   "outputs": [],
   "source": [
    "for n_image_clusters in xrange(1,5):\n",
    "    draw_fun(\"linear\",n_image_clusters)\n",
    "    draw_fun(\"rbf\",n_image_clusters)"
   ]
  },
  {
   "cell_type": "code",
   "execution_count": null,
   "metadata": {},
   "outputs": [],
   "source": [
    "\"\"\"\n",
    "\n",
    "\"\"\""
   ]
  },
  {
   "cell_type": "code",
   "execution_count": null,
   "metadata": {},
   "outputs": [],
   "source": [
    "from SleepingThread.qsar import descriptors as descr\n",
    "sel_folder = \"/home/unknown/SCW/datasets/bzr/selection\"\n",
    "sgt = descr.MolSegmentator()\n",
    "sgt.setMol(sel_folder+\"/1\")\n",
    "sgt.generateSegmentation(scales=[10.0],verbose=1)\n",
    "sgt.drawSegmentationScores()\n",
    "print sgt.n_segments\n",
    "sgt.drawSurface(draw_segm=True,draw_segm_centers=True)"
   ]
  },
  {
   "cell_type": "code",
   "execution_count": null,
   "metadata": {},
   "outputs": [],
   "source": [
    "sgt.drawSegments(start=0,end=5,draw_prop=True,draw_segm_centers=True)"
   ]
  },
  {
   "cell_type": "code",
   "execution_count": null,
   "metadata": {},
   "outputs": [],
   "source": [
    "from matplotlib import pyplot as plt\n",
    "fig = plt.figure()\n",
    "plt.table(cellText=[[\"asdasd\",\"sdfsdfsd\"],[\"zxczxkfms\",\",mvnblkdfg\"]],colLabels=[\"A\",\"B\"],rowLabels=[\"C\",\"D\"])\n",
    "fig.axes[0].axis('off')\n",
    "plt.show()"
   ]
  },
  {
   "cell_type": "code",
   "execution_count": null,
   "metadata": {},
   "outputs": [],
   "source": [
    "sgt = descr.MolSegmentator()\n",
    "sgt.setSurface(points_list[0],mesh_index_list[0],[prop_list[0]])\n",
    "sgt.generateSegmentation(18,scales=[10.0])\n",
    "sgt.generateSegmentImages(10)\n",
    "sgt.generateMolImage(10)"
   ]
  },
  {
   "cell_type": "code",
   "execution_count": null,
   "metadata": {},
   "outputs": [],
   "source": [
    "from SleepingThread import ml\n",
    "from sklearn.cluster import KMeans\n",
    "import numpy as np\n",
    "np.random.seed(0)\n",
    "kmeans = KMeans(n_clusters=2)\n",
    "data = np.random.random(30).reshape(-1,1)\n",
    "scree = ml.ScreeSearch(kmeans,{\"n_clusters\":[2,3,4,5,6,7]})\n",
    "scree.fit(data)"
   ]
  }
 ],
 "metadata": {
  "kernelspec": {
   "display_name": "Python 2",
   "language": "python",
   "name": "python2"
  },
  "language_info": {
   "codemirror_mode": {
    "name": "ipython",
    "version": 2
   },
   "file_extension": ".py",
   "mimetype": "text/x-python",
   "name": "python",
   "nbconvert_exporter": "python",
   "pygments_lexer": "ipython2",
   "version": "2.7.12"
  }
 },
 "nbformat": 4,
 "nbformat_minor": 2
}
